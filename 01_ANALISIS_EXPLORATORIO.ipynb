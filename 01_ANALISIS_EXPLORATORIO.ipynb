{
 "cells": [
  {
   "cell_type": "code",
   "execution_count": 1,
   "id": "a7ed7575-6ccf-4a91-80a8-e53f18e6bd2a",
   "metadata": {},
   "outputs": [
    {
     "name": "stdout",
     "output_type": "stream",
     "text": [
      "\n",
      "--- Datos de Database 1 ---\n",
      "\n",
      "Tabla: apicall\n",
      "         date_api_call          commerce_id  ask_status  is_related\n",
      "0  2024-10-21 18:31:16  GdEQ-MGb7-LXHa-y6cd  Successful         1.0\n",
      "1  2024-10-13 17:12:08  GdEQ-MGb7-LXHa-y6cd  Successful         1.0\n",
      "2  2024-12-23 01:02:06  Rh2k-J1o7-zndZ-cOo8  Successful         1.0\n",
      "3  2024-07-11 07:24:35  GdEQ-MGb7-LXHa-y6cd  Successful         1.0\n",
      "4  2024-06-28 11:43:52  Rh2k-J1o7-zndZ-cOo8  Successful         1.0\n",
      "\n",
      "Tabla: commerce\n",
      "           commerce_id  commerce_nit           commerce_name commerce_status  \\\n",
      "0  KaSn-4LHo-m6vC-I4PU     445470636      Innovexa Solutions        Inactive   \n",
      "1  Vj9W-c4Pm-ja0X-fC1C     452680670     NexaTech Industries          Active   \n",
      "2  Rh2k-J1o7-zndZ-cOo8     198818316        QuantumLeap Inc.          Active   \n",
      "3  3VYd-4lzT-mTC3-DQN5      28960112            Zenith Corp.          Active   \n",
      "4  GdEQ-MGb7-LXHa-y6cd     919341007  FusionWave Enterprises          Active   \n",
      "\n",
      "                          commerce_email  \n",
      "0      innovexasolutions@microfitsof.com  \n",
      "1         nexatechindustries@gemaily.net  \n",
      "2            quantumleapinc.@gemaily.net  \n",
      "3                zenithcorp.@gemaily.net  \n",
      "4  fusionwaveenterprises@microfitsof.com  \n",
      "\n",
      "--- Datos de Database 2 ---\n",
      "\n",
      "Tabla: contract\n",
      "           commerce_id contract_type  commission_value  \\\n",
      "0  KaSn-4LHo-m6vC-I4PU          Fijo               300   \n",
      "1  Vj9W-c4Pm-ja0X-fC1C      Variable               250   \n",
      "2  Vj9W-c4Pm-ja0X-fC1C      Variable               200   \n",
      "3  Vj9W-c4Pm-ja0X-fC1C      Variable               170   \n",
      "4  Rh2k-J1o7-zndZ-cOo8          Fijo               600   \n",
      "\n",
      "   successful_requests_start_range  successful_requests_end_range  \\\n",
      "0                              NaN                            NaN   \n",
      "1                              0.0                        10000.0   \n",
      "2                          10001.0                        20000.0   \n",
      "3                          20001.0                            NaN   \n",
      "4                              NaN                            NaN   \n",
      "\n",
      "   discount_available  unsuccessful_requests_start_range  \\\n",
      "0                   0                                NaN   \n",
      "1                   0                                NaN   \n",
      "2                   0                                NaN   \n",
      "3                   0                                NaN   \n",
      "4                   0                                NaN   \n",
      "\n",
      "   unsuccessful_requests_end_range  discount_value  iva_value  \n",
      "0                              NaN             NaN       0.19  \n",
      "1                              NaN             NaN       0.19  \n",
      "2                              NaN             NaN       0.19  \n",
      "3                              NaN             NaN       0.19  \n",
      "4                              NaN             NaN       0.19  \n"
     ]
    }
   ],
   "source": [
    "import sqlite3\n",
    "import pandas as pd\n",
    "# Conectar a las dos bases de datos\n",
    "conn1 = sqlite3.connect('database.sqlite')\n",
    "conn2 = sqlite3.connect('database_contratos.sqlite')\n",
    "\n",
    "# Función para obtener todas las tablas de una base de datos\n",
    "def obtener_tablas(conn):\n",
    "    query = \"SELECT name FROM sqlite_master WHERE type='table';\"\n",
    "    tablas = pd.read_sql_query(query, conn)\n",
    "    return tablas['name'].tolist()\n",
    "\n",
    "# Función para obtener todos los datos de cada tabla\n",
    "def obtener_datos_tabla(conn, tabla):\n",
    "    query = f\"SELECT * FROM {tabla};\"\n",
    "    return pd.read_sql_query(query, conn)\n",
    "\n",
    "# Obtener tablas de cada base de datos\n",
    "tablas_db1 = obtener_tablas(conn1)\n",
    "tablas_db2 = obtener_tablas(conn2)\n",
    "\n",
    "# Cargar datos de la base de datos 1\n",
    "print(\"\\n--- Datos de Database 1 ---\")\n",
    "dfs_db1 = {}\n",
    "for tabla in tablas_db1:\n",
    "    df = obtener_datos_tabla(conn1, tabla)\n",
    "    dfs_db1[tabla] = df\n",
    "    print(f\"\\nTabla: {tabla}\")\n",
    "    print(df.head())  # Muestra las primeras filas de cada tabla\n",
    "\n",
    "# Cargar datos de la base de datos 2\n",
    "print(\"\\n--- Datos de Database 2 ---\")\n",
    "dfs_db2 = {}\n",
    "for tabla in tablas_db2:\n",
    "    df = obtener_datos_tabla(conn2, tabla)\n",
    "    dfs_db2[tabla] = df\n",
    "    print(f\"\\nTabla: {tabla}\")\n",
    "    print(df.head())\n",
    "conn1.close()\n",
    "conn2.close()"
   ]
  },
  {
   "cell_type": "code",
   "execution_count": 5,
   "id": "e49a8737-f167-490a-a6a5-86dcf5a0b93f",
   "metadata": {
    "scrolled": true
   },
   "outputs": [
    {
     "name": "stdout",
     "output_type": "stream",
     "text": [
      "Información Tabla Apicall\n",
      "<class 'pandas.core.frame.DataFrame'>\n",
      "RangeIndex: 1500000 entries, 0 to 1499999\n",
      "Data columns (total 4 columns):\n",
      " #   Column         Non-Null Count    Dtype  \n",
      "---  ------         --------------    -----  \n",
      " 0   date_api_call  1500000 non-null  object \n",
      " 1   commerce_id    1500000 non-null  object \n",
      " 2   ask_status     1500000 non-null  object \n",
      " 3   is_related     1200495 non-null  float64\n",
      "dtypes: float64(1), object(3)\n",
      "memory usage: 45.8+ MB\n",
      "Información Tabla Commerce\n",
      "<class 'pandas.core.frame.DataFrame'>\n",
      "RangeIndex: 5 entries, 0 to 4\n",
      "Data columns (total 5 columns):\n",
      " #   Column           Non-Null Count  Dtype \n",
      "---  ------           --------------  ----- \n",
      " 0   commerce_id      5 non-null      object\n",
      " 1   commerce_nit     5 non-null      int64 \n",
      " 2   commerce_name    5 non-null      object\n",
      " 3   commerce_status  5 non-null      object\n",
      " 4   commerce_email   5 non-null      object\n",
      "dtypes: int64(1), object(4)\n",
      "memory usage: 332.0+ bytes\n"
     ]
    }
   ],
   "source": [
    "# Analisis Exploratorio (EDA)\n",
    "db_apicall = pd.DataFrame(dfs_db1['apicall'])\n",
    "db_commerce = pd.DataFrame(dfs_db1['commerce'])\n",
    "print(\"Información Tabla Apicall\")\n",
    "db_apicall.info()\n",
    "print(\"Información Tabla Commerce\")\n",
    "db_commerce.info()"
   ]
  },
  {
   "cell_type": "code",
   "execution_count": 7,
   "id": "416925e3-d9b9-44bd-8e3e-19863bab4c6e",
   "metadata": {},
   "outputs": [],
   "source": [
    "# Cambiamos el formato de fecha que incluye horas al formato unicamente de fecha.\n",
    "# Convertir la columna 'fecha' a datetime\n",
    "db_apicall['date_api_call']  = pd.to_datetime(db_apicall['date_api_call'])"
   ]
  },
  {
   "cell_type": "code",
   "execution_count": 8,
   "id": "1bdf6374-14c2-41c2-aa2f-9965597eaae4",
   "metadata": {},
   "outputs": [
    {
     "data": {
      "text/plain": [
       "commerce_id        0\n",
       "commerce_nit       0\n",
       "commerce_name      0\n",
       "commerce_status    0\n",
       "commerce_email     0\n",
       "dtype: int64"
      ]
     },
     "execution_count": 8,
     "metadata": {},
     "output_type": "execute_result"
    }
   ],
   "source": [
    "# Chequeando valores nulos\n",
    "db_commerce.isnull().sum()"
   ]
  },
  {
   "cell_type": "code",
   "execution_count": 9,
   "id": "80e897ba-773b-4c03-acc3-b01ead10d5c8",
   "metadata": {},
   "outputs": [],
   "source": [
    "# Contar la frecuencia de cada categoría\n",
    "conteo = db_apicall['ask_status'].value_counts()\n",
    "# Quiero hacer, una distribución o grafico de barras, donde muestre las peticiones exitosas según cada id de la empresa y las peticiones nn"
   ]
  },
  {
   "cell_type": "code",
   "execution_count": 20,
   "id": "661f147b-ea03-4fbe-b0ed-caf70781883e",
   "metadata": {},
   "outputs": [
    {
     "data": {
      "text/html": [
       "<div>\n",
       "<style scoped>\n",
       "    .dataframe tbody tr th:only-of-type {\n",
       "        vertical-align: middle;\n",
       "    }\n",
       "\n",
       "    .dataframe tbody tr th {\n",
       "        vertical-align: top;\n",
       "    }\n",
       "\n",
       "    .dataframe thead th {\n",
       "        text-align: right;\n",
       "    }\n",
       "</style>\n",
       "<table border=\"1\" class=\"dataframe\">\n",
       "  <thead>\n",
       "    <tr style=\"text-align: right;\">\n",
       "      <th></th>\n",
       "      <th>commerce_name</th>\n",
       "      <th>commerce_id</th>\n",
       "    </tr>\n",
       "  </thead>\n",
       "  <tbody>\n",
       "    <tr>\n",
       "      <th>0</th>\n",
       "      <td>Innovexa Solutions</td>\n",
       "      <td>KaSn-4LHo-m6vC-I4PU</td>\n",
       "    </tr>\n",
       "    <tr>\n",
       "      <th>1</th>\n",
       "      <td>NexaTech Industries</td>\n",
       "      <td>Vj9W-c4Pm-ja0X-fC1C</td>\n",
       "    </tr>\n",
       "    <tr>\n",
       "      <th>2</th>\n",
       "      <td>QuantumLeap Inc.</td>\n",
       "      <td>Rh2k-J1o7-zndZ-cOo8</td>\n",
       "    </tr>\n",
       "    <tr>\n",
       "      <th>3</th>\n",
       "      <td>Zenith Corp.</td>\n",
       "      <td>3VYd-4lzT-mTC3-DQN5</td>\n",
       "    </tr>\n",
       "    <tr>\n",
       "      <th>4</th>\n",
       "      <td>FusionWave Enterprises</td>\n",
       "      <td>GdEQ-MGb7-LXHa-y6cd</td>\n",
       "    </tr>\n",
       "  </tbody>\n",
       "</table>\n",
       "</div>"
      ],
      "text/plain": [
       "            commerce_name          commerce_id\n",
       "0      Innovexa Solutions  KaSn-4LHo-m6vC-I4PU\n",
       "1     NexaTech Industries  Vj9W-c4Pm-ja0X-fC1C\n",
       "2        QuantumLeap Inc.  Rh2k-J1o7-zndZ-cOo8\n",
       "3            Zenith Corp.  3VYd-4lzT-mTC3-DQN5\n",
       "4  FusionWave Enterprises  GdEQ-MGb7-LXHa-y6cd"
      ]
     },
     "execution_count": 20,
     "metadata": {},
     "output_type": "execute_result"
    }
   ],
   "source": [
    "union = db_commerce[['commerce_name','commerce_id']]"
   ]
  },
  {
   "cell_type": "code",
   "execution_count": 25,
   "id": "a7be484a-7634-4c63-86ed-42d83f361a8f",
   "metadata": {},
   "outputs": [],
   "source": [
    "agrupacion = db_apicall.groupby(['commerce_id', 'ask_status']).size().unstack(fill_value=0)\n"
   ]
  },
  {
   "cell_type": "code",
   "execution_count": 26,
   "id": "5cb517cb-f30e-4abd-9450-64d57617a199",
   "metadata": {},
   "outputs": [],
   "source": [
    "union = pd.merge(agrupacion,db_commerce[['commerce_name','commerce_id']],on='commerce_id')"
   ]
  },
  {
   "cell_type": "code",
   "execution_count": 27,
   "id": "e46d0207-bd2b-4e44-be9f-d72afffddc54",
   "metadata": {},
   "outputs": [
    {
     "data": {
      "text/html": [
       "<div>\n",
       "<style scoped>\n",
       "    .dataframe tbody tr th:only-of-type {\n",
       "        vertical-align: middle;\n",
       "    }\n",
       "\n",
       "    .dataframe tbody tr th {\n",
       "        vertical-align: top;\n",
       "    }\n",
       "\n",
       "    .dataframe thead th {\n",
       "        text-align: right;\n",
       "    }\n",
       "</style>\n",
       "<table border=\"1\" class=\"dataframe\">\n",
       "  <thead>\n",
       "    <tr style=\"text-align: right;\">\n",
       "      <th></th>\n",
       "      <th>Successful</th>\n",
       "      <th>Unsuccessful</th>\n",
       "      <th>commerce_name</th>\n",
       "    </tr>\n",
       "  </thead>\n",
       "  <tbody>\n",
       "    <tr>\n",
       "      <th>0</th>\n",
       "      <td>240591</td>\n",
       "      <td>59921</td>\n",
       "      <td>Zenith Corp.</td>\n",
       "    </tr>\n",
       "    <tr>\n",
       "      <th>1</th>\n",
       "      <td>239507</td>\n",
       "      <td>60145</td>\n",
       "      <td>FusionWave Enterprises</td>\n",
       "    </tr>\n",
       "    <tr>\n",
       "      <th>2</th>\n",
       "      <td>240036</td>\n",
       "      <td>60064</td>\n",
       "      <td>Innovexa Solutions</td>\n",
       "    </tr>\n",
       "    <tr>\n",
       "      <th>3</th>\n",
       "      <td>239976</td>\n",
       "      <td>59805</td>\n",
       "      <td>QuantumLeap Inc.</td>\n",
       "    </tr>\n",
       "    <tr>\n",
       "      <th>4</th>\n",
       "      <td>240385</td>\n",
       "      <td>59570</td>\n",
       "      <td>NexaTech Industries</td>\n",
       "    </tr>\n",
       "  </tbody>\n",
       "</table>\n",
       "</div>"
      ],
      "text/plain": [
       "   Successful  Unsuccessful           commerce_name\n",
       "0      240591         59921            Zenith Corp.\n",
       "1      239507         60145  FusionWave Enterprises\n",
       "2      240036         60064      Innovexa Solutions\n",
       "3      239976         59805        QuantumLeap Inc.\n",
       "4      240385         59570     NexaTech Industries"
      ]
     },
     "execution_count": 27,
     "metadata": {},
     "output_type": "execute_result"
    }
   ],
   "source": [
    "union.iloc[:,1:]"
   ]
  },
  {
   "cell_type": "code",
   "execution_count": 28,
   "id": "903b2875-04b3-468f-a93d-87f244b5252b",
   "metadata": {},
   "outputs": [],
   "source": [
    "import matplotlib.pyplot as plt"
   ]
  },
  {
   "cell_type": "code",
   "execution_count": 58,
   "id": "81fe6ac1-9831-4de8-b8aa-ddfd925c6bf8",
   "metadata": {},
   "outputs": [
    {
     "data": {
      "image/png": "[encoded data removed]",
      "text/plain": [
       "<Figure size 1000x600 with 1 Axes>"
      ]
     },
     "metadata": {},
     "output_type": "display_data"
    }
   ],
   "source": [
    "# Graficar\n",
    "fig, ax = plt.subplots(figsize=(10, 6))\n",
    "# Graficar especificando la columna para el eje X y las columnas para Y\n",
    "union.plot(kind='bar', x='commerce_name',color=['skyblue', 'orange'], ax= ax)\n",
    "plt.xticks(rotation= 0, fontsize=9, fontweight='bold', fontfamily='serif') \n",
    "plt.title('Diagrama de la cantidad de peticiones')\n",
    "plt.xlabel('Empresa', fontsize=10)\n",
    "plt.ylabel('Cantidad de Respuesta')\n",
    "plt.legend(title='Tipo de Transacción')\n",
    "plt.grid(axis='y', linestyle='--', alpha=0.7)\n",
    "plt.show()"
   ]
  },
  {
   "cell_type": "code",
   "execution_count": 60,
   "id": "004a5746-9f5f-47c6-b915-90852500272a",
   "metadata": {},
   "outputs": [
    {
     "data": {
      "text/html": [
       "<div>\n",
       "<style scoped>\n",
       "    .dataframe tbody tr th:only-of-type {\n",
       "        vertical-align: middle;\n",
       "    }\n",
       "\n",
       "    .dataframe tbody tr th {\n",
       "        vertical-align: top;\n",
       "    }\n",
       "\n",
       "    .dataframe thead th {\n",
       "        text-align: right;\n",
       "    }\n",
       "</style>\n",
       "<table border=\"1\" class=\"dataframe\">\n",
       "  <thead>\n",
       "    <tr style=\"text-align: right;\">\n",
       "      <th></th>\n",
       "      <th>commerce_nit</th>\n",
       "    </tr>\n",
       "  </thead>\n",
       "  <tbody>\n",
       "    <tr>\n",
       "      <th>count</th>\n",
       "      <td>5.000000e+00</td>\n",
       "    </tr>\n",
       "    <tr>\n",
       "      <th>mean</th>\n",
       "      <td>4.090541e+08</td>\n",
       "    </tr>\n",
       "    <tr>\n",
       "      <th>std</th>\n",
       "      <td>3.362635e+08</td>\n",
       "    </tr>\n",
       "    <tr>\n",
       "      <th>min</th>\n",
       "      <td>2.896011e+07</td>\n",
       "    </tr>\n",
       "    <tr>\n",
       "      <th>25%</th>\n",
       "      <td>1.988183e+08</td>\n",
       "    </tr>\n",
       "    <tr>\n",
       "      <th>50%</th>\n",
       "      <td>4.454706e+08</td>\n",
       "    </tr>\n",
       "    <tr>\n",
       "      <th>75%</th>\n",
       "      <td>4.526807e+08</td>\n",
       "    </tr>\n",
       "    <tr>\n",
       "      <th>max</th>\n",
       "      <td>9.193410e+08</td>\n",
       "    </tr>\n",
       "  </tbody>\n",
       "</table>\n",
       "</div>"
      ],
      "text/plain": [
       "       commerce_nit\n",
       "count  5.000000e+00\n",
       "mean   4.090541e+08\n",
       "std    3.362635e+08\n",
       "min    2.896011e+07\n",
       "25%    1.988183e+08\n",
       "50%    4.454706e+08\n",
       "75%    4.526807e+08\n",
       "max    9.193410e+08"
      ]
     },
     "execution_count": 60,
     "metadata": {},
     "output_type": "execute_result"
    }
   ],
   "source": [
    "db_commerce.describe()"
   ]
  },
  {
   "cell_type": "code",
   "execution_count": 61,
   "id": "7e2468b9-ebff-410d-a5a7-f640c5fdb9bf",
   "metadata": {},
   "outputs": [
    {
     "data": {
      "text/html": [
       "<div>\n",
       "<style scoped>\n",
       "    .dataframe tbody tr th:only-of-type {\n",
       "        vertical-align: middle;\n",
       "    }\n",
       "\n",
       "    .dataframe tbody tr th {\n",
       "        vertical-align: top;\n",
       "    }\n",
       "\n",
       "    .dataframe thead th {\n",
       "        text-align: right;\n",
       "    }\n",
       "</style>\n",
       "<table border=\"1\" class=\"dataframe\">\n",
       "  <thead>\n",
       "    <tr style=\"text-align: right;\">\n",
       "      <th></th>\n",
       "      <th>date_api_call</th>\n",
       "      <th>is_related</th>\n",
       "    </tr>\n",
       "  </thead>\n",
       "  <tbody>\n",
       "    <tr>\n",
       "      <th>count</th>\n",
       "      <td>1500000</td>\n",
       "      <td>1.200495e+06</td>\n",
       "    </tr>\n",
       "    <tr>\n",
       "      <th>mean</th>\n",
       "      <td>2024-07-02 00:33:23.949236224</td>\n",
       "      <td>6.671648e-01</td>\n",
       "    </tr>\n",
       "    <tr>\n",
       "      <th>min</th>\n",
       "      <td>2024-01-01 00:00:15</td>\n",
       "      <td>0.000000e+00</td>\n",
       "    </tr>\n",
       "    <tr>\n",
       "      <th>25%</th>\n",
       "      <td>2024-04-01 16:45:41.500000</td>\n",
       "      <td>0.000000e+00</td>\n",
       "    </tr>\n",
       "    <tr>\n",
       "      <th>50%</th>\n",
       "      <td>2024-07-01 23:32:30.500000</td>\n",
       "      <td>1.000000e+00</td>\n",
       "    </tr>\n",
       "    <tr>\n",
       "      <th>75%</th>\n",
       "      <td>2024-10-01 10:41:27.500000</td>\n",
       "      <td>1.000000e+00</td>\n",
       "    </tr>\n",
       "    <tr>\n",
       "      <th>max</th>\n",
       "      <td>2024-12-31 23:59:39</td>\n",
       "      <td>1.000000e+00</td>\n",
       "    </tr>\n",
       "    <tr>\n",
       "      <th>std</th>\n",
       "      <td>NaN</td>\n",
       "      <td>4.712283e-01</td>\n",
       "    </tr>\n",
       "  </tbody>\n",
       "</table>\n",
       "</div>"
      ],
      "text/plain": [
       "                       date_api_call    is_related\n",
       "count                        1500000  1.200495e+06\n",
       "mean   2024-07-02 00:33:23.949236224  6.671648e-01\n",
       "min              2024-01-01 00:00:15  0.000000e+00\n",
       "25%       2024-04-01 16:45:41.500000  0.000000e+00\n",
       "50%       2024-07-01 23:32:30.500000  1.000000e+00\n",
       "75%       2024-10-01 10:41:27.500000  1.000000e+00\n",
       "max              2024-12-31 23:59:39  1.000000e+00\n",
       "std                              NaN  4.712283e-01"
      ]
     },
     "execution_count": 61,
     "metadata": {},
     "output_type": "execute_result"
    }
   ],
   "source": [
    "db_apicall.describe()"
   ]
  }
 ],
 "metadata": {
  "kernelspec": {
   "display_name": "Python 3 (ipykernel)",
   "language": "python",
   "name": "python3"
  },
  "language_info": {
   "codemirror_mode": {
    "name": "ipython",
    "version": 3
   },
   "file_extension": ".py",
   "mimetype": "text/x-python",
   "name": "python",
   "nbconvert_exporter": "python",
   "pygments_lexer": "ipython3",
   "version": "3.12.3"
  }
 },
 "nbformat": 4,
 "nbformat_minor": 5
}
