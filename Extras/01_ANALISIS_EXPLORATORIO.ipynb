{
 "cells": [
  {
   "cell_type": "code",
   "execution_count": 1,
   "id": "02821096",
   "metadata": {},
   "outputs": [],
   "source": [
    "# Importacion de Librerias\n",
    "import sqlite3\n",
    "import pandas as pd\n",
    "import os "
   ]
  },
  {
   "cell_type": "code",
   "execution_count": 4,
   "id": "916da98f",
   "metadata": {},
   "outputs": [],
   "source": [
    "def obtener_tablas_y_datos(conn):\n",
    "    \"\"\"\n",
    "    Recupera todas las tablas de una base de datos SQLite y sus respectivos datos.\n",
    "\n",
    "    Esta función ejecuta una consulta para obtener los nombres de todas las tablas\n",
    "    en la base de datos y luego realiza una consulta SELECT sobre cada tabla para\n",
    "    recuperar todos sus datos. Los resultados se devuelven en forma de un diccionario,\n",
    "    donde las claves son los nombres de las tablas y los valores son DataFrames de pandas\n",
    "    con el contenido de cada tabla.\n",
    "\n",
    "    Parámetros:\n",
    "    conn : sqlite3.Connection\n",
    "        Objeto de conexión a la base de datos SQLite.\n",
    "\n",
    "    Retorna:\n",
    "    dict\n",
    "        Un diccionario donde las claves son los nombres de las tablas y los valores\n",
    "        son DataFrames que contienen los datos de cada tabla.\n",
    "    \"\"\"\n",
    "\n",
    "    tablas_query = \"SELECT name FROM sqlite_master WHERE type='table';\"\n",
    "    tablas = pd.read_sql_query(tablas_query, conn)['name'].tolist()\n",
    "    dbs = {tabla: pd.read_sql_query(f\"SELECT * FROM {tabla};\", conn) for tabla in tablas}\n",
    "    return dbs"
   ]
  },
  {
   "cell_type": "code",
   "execution_count": 5,
   "id": "593de5bb",
   "metadata": {},
   "outputs": [],
   "source": [
    "# Conectar a las bases de datos\n",
    "with sqlite3.connect('../database.sqlite') as conn1, sqlite3.connect('../database_contratos.sqlite') as conn2:\n",
    "    # Obtener datos de cada base de datos\n",
    "    db1 = obtener_tablas_y_datos(conn1)\n",
    "    db2 = obtener_tablas_y_datos(conn2)\n",
    "\n",
    "\n",
    "#Conversión de las bases de datos al formato DataFrame\n",
    "db_apicall = pd.DataFrame(db1['apicall'])\n",
    "db_commerce = pd.DataFrame(db1['commerce'])\n",
    "db_contratos = pd.DataFrame(db2['contract'])\n"
   ]
  },
  {
   "cell_type": "code",
   "execution_count": 6,
   "id": "e49a8737-f167-490a-a6a5-86dcf5a0b93f",
   "metadata": {
    "scrolled": true
   },
   "outputs": [
    {
     "name": "stdout",
     "output_type": "stream",
     "text": [
      "Información Tabla Apicall\n",
      "<class 'pandas.core.frame.DataFrame'>\n",
      "RangeIndex: 1500000 entries, 0 to 1499999\n",
      "Data columns (total 4 columns):\n",
      " #   Column         Non-Null Count    Dtype  \n",
      "---  ------         --------------    -----  \n",
      " 0   date_api_call  1500000 non-null  object \n",
      " 1   commerce_id    1500000 non-null  object \n",
      " 2   ask_status     1500000 non-null  object \n",
      " 3   is_related     1200495 non-null  float64\n",
      "dtypes: float64(1), object(3)\n",
      "memory usage: 45.8+ MB\n",
      "Información Tabla Commerce\n",
      "<class 'pandas.core.frame.DataFrame'>\n",
      "RangeIndex: 5 entries, 0 to 4\n",
      "Data columns (total 5 columns):\n",
      " #   Column           Non-Null Count  Dtype \n",
      "---  ------           --------------  ----- \n",
      " 0   commerce_id      5 non-null      object\n",
      " 1   commerce_nit     5 non-null      int64 \n",
      " 2   commerce_name    5 non-null      object\n",
      " 3   commerce_status  5 non-null      object\n",
      " 4   commerce_email   5 non-null      object\n",
      "dtypes: int64(1), object(4)\n",
      "memory usage: 332.0+ bytes\n"
     ]
    }
   ],
   "source": [
    "#Exploracion\n",
    "print(\"Información Tabla Apicall\")\n",
    "db_apicall.info()\n",
    "print(\"Información Tabla Commerce\")\n",
    "db_commerce.info()"
   ]
  },
  {
   "cell_type": "code",
   "execution_count": 7,
   "id": "416925e3-d9b9-44bd-8e3e-19863bab4c6e",
   "metadata": {},
   "outputs": [],
   "source": [
    "# Cambiamos el formato de fecha que incluye horas al formato unicamente de fecha.\n",
    "# Convertir la columna 'fecha' a datetime\n",
    "db_apicall['date_api_call']  = pd.to_datetime(db_apicall['date_api_call'])"
   ]
  },
  {
   "cell_type": "code",
   "execution_count": 9,
   "id": "1bdf6374-14c2-41c2-aa2f-9965597eaae4",
   "metadata": {},
   "outputs": [
    {
     "data": {
      "text/plain": [
       "(commerce_id        0\n",
       " commerce_nit       0\n",
       " commerce_name      0\n",
       " commerce_status    0\n",
       " commerce_email     0\n",
       " dtype: int64,\n",
       " date_api_call         0\n",
       " commerce_id           0\n",
       " ask_status            0\n",
       " is_related       299505\n",
       " dtype: int64)"
      ]
     },
     "execution_count": 9,
     "metadata": {},
     "output_type": "execute_result"
    }
   ],
   "source": [
    "# Chequeando valores nulos\n",
    "db_commerce.isnull().sum() , db_apicall.isnull().sum()"
   ]
  },
  {
   "cell_type": "code",
   "execution_count": 11,
   "id": "80e897ba-773b-4c03-acc3-b01ead10d5c8",
   "metadata": {},
   "outputs": [
    {
     "data": {
      "text/plain": [
       "ask_status\n",
       "Successful      1200495\n",
       "Unsuccessful     299505\n",
       "Name: count, dtype: int64"
      ]
     },
     "execution_count": 11,
     "metadata": {},
     "output_type": "execute_result"
    }
   ],
   "source": [
    "# Contar la frecuencia de cada categoría\n",
    "db_apicall['ask_status'].value_counts()"
   ]
  },
  {
   "cell_type": "code",
   "execution_count": 18,
   "id": "fa08d308",
   "metadata": {},
   "outputs": [
    {
     "data": {
      "text/plain": [
       "(       commerce_nit\n",
       " count  5.000000e+00\n",
       " mean   4.090541e+08\n",
       " std    3.362635e+08\n",
       " min    2.896011e+07\n",
       " 25%    1.988183e+08\n",
       " 50%    4.454706e+08\n",
       " 75%    4.526807e+08\n",
       " max    9.193410e+08,\n",
       "                        date_api_call    is_related\n",
       " count                        1500000  1.200495e+06\n",
       " mean   2024-07-02 00:33:23.949236224  6.671648e-01\n",
       " min              2024-01-01 00:00:15  0.000000e+00\n",
       " 25%       2024-04-01 16:45:41.500000  0.000000e+00\n",
       " 50%       2024-07-01 23:32:30.500000  1.000000e+00\n",
       " 75%       2024-10-01 10:41:27.500000  1.000000e+00\n",
       " max              2024-12-31 23:59:39  1.000000e+00\n",
       " std                              NaN  4.712283e-01)"
      ]
     },
     "execution_count": 18,
     "metadata": {},
     "output_type": "execute_result"
    }
   ],
   "source": [
    "db_commerce.describe() , db_apicall.describe()"
   ]
  },
  {
   "cell_type": "code",
   "execution_count": 12,
   "id": "661f147b-ea03-4fbe-b0ed-caf70781883e",
   "metadata": {},
   "outputs": [],
   "source": [
    "union = db_commerce[['commerce_name','commerce_id']]"
   ]
  },
  {
   "cell_type": "code",
   "execution_count": 13,
   "id": "a7be484a-7634-4c63-86ed-42d83f361a8f",
   "metadata": {},
   "outputs": [],
   "source": [
    "agrupacion = db_apicall.groupby(['commerce_id', 'ask_status']).size().unstack(fill_value=0)\n"
   ]
  },
  {
   "cell_type": "code",
   "execution_count": 14,
   "id": "5cb517cb-f30e-4abd-9450-64d57617a199",
   "metadata": {},
   "outputs": [],
   "source": [
    "union = pd.merge(agrupacion,db_commerce[['commerce_name','commerce_id']],on='commerce_id')"
   ]
  },
  {
   "cell_type": "code",
   "execution_count": 15,
   "id": "e46d0207-bd2b-4e44-be9f-d72afffddc54",
   "metadata": {},
   "outputs": [
    {
     "data": {
      "text/html": [
       "<div>\n",
       "<style scoped>\n",
       "    .dataframe tbody tr th:only-of-type {\n",
       "        vertical-align: middle;\n",
       "    }\n",
       "\n",
       "    .dataframe tbody tr th {\n",
       "        vertical-align: top;\n",
       "    }\n",
       "\n",
       "    .dataframe thead th {\n",
       "        text-align: right;\n",
       "    }\n",
       "</style>\n",
       "<table border=\"1\" class=\"dataframe\">\n",
       "  <thead>\n",
       "    <tr style=\"text-align: right;\">\n",
       "      <th></th>\n",
       "      <th>Successful</th>\n",
       "      <th>Unsuccessful</th>\n",
       "      <th>commerce_name</th>\n",
       "    </tr>\n",
       "  </thead>\n",
       "  <tbody>\n",
       "    <tr>\n",
       "      <th>0</th>\n",
       "      <td>240591</td>\n",
       "      <td>59921</td>\n",
       "      <td>Zenith Corp.</td>\n",
       "    </tr>\n",
       "    <tr>\n",
       "      <th>1</th>\n",
       "      <td>239507</td>\n",
       "      <td>60145</td>\n",
       "      <td>FusionWave Enterprises</td>\n",
       "    </tr>\n",
       "    <tr>\n",
       "      <th>2</th>\n",
       "      <td>240036</td>\n",
       "      <td>60064</td>\n",
       "      <td>Innovexa Solutions</td>\n",
       "    </tr>\n",
       "    <tr>\n",
       "      <th>3</th>\n",
       "      <td>239976</td>\n",
       "      <td>59805</td>\n",
       "      <td>QuantumLeap Inc.</td>\n",
       "    </tr>\n",
       "    <tr>\n",
       "      <th>4</th>\n",
       "      <td>240385</td>\n",
       "      <td>59570</td>\n",
       "      <td>NexaTech Industries</td>\n",
       "    </tr>\n",
       "  </tbody>\n",
       "</table>\n",
       "</div>"
      ],
      "text/plain": [
       "   Successful  Unsuccessful           commerce_name\n",
       "0      240591         59921            Zenith Corp.\n",
       "1      239507         60145  FusionWave Enterprises\n",
       "2      240036         60064      Innovexa Solutions\n",
       "3      239976         59805        QuantumLeap Inc.\n",
       "4      240385         59570     NexaTech Industries"
      ]
     },
     "execution_count": 15,
     "metadata": {},
     "output_type": "execute_result"
    }
   ],
   "source": [
    "union.iloc[:,1:]"
   ]
  },
  {
   "cell_type": "code",
   "execution_count": 16,
   "id": "903b2875-04b3-468f-a93d-87f244b5252b",
   "metadata": {},
   "outputs": [],
   "source": [
    "import matplotlib.pyplot as plt"
   ]
  },
  {
   "cell_type": "code",
   "execution_count": 17,
   "id": "81fe6ac1-9831-4de8-b8aa-ddfd925c6bf8",
   "metadata": {},
   "outputs": [
    {
     "data": {
      "image/png": "[encoded data removed]",
      "text/plain": [
       "<Figure size 1000x600 with 1 Axes>"
      ]
     },
     "metadata": {},
     "output_type": "display_data"
    }
   ],
   "source": [
    "# Graficar\n",
    "fig, ax = plt.subplots(figsize=(10, 6))\n",
    "# Graficar especificando la columna para el eje X y las columnas para Y\n",
    "union.plot(kind='bar', x='commerce_name',color=['skyblue', 'orange'], ax= ax)\n",
    "plt.xticks(rotation= 0, fontsize=9, fontweight='bold', fontfamily='serif') \n",
    "plt.title('Diagrama de la cantidad de peticiones')\n",
    "plt.xlabel('Empresa', fontsize=10)\n",
    "plt.ylabel('Cantidad de Respuesta')\n",
    "plt.legend(title='Tipo de Transacción')\n",
    "plt.grid(axis='y', linestyle='--', alpha=0.7)\n",
    "plt.show()"
   ]
  }
 ],
 "metadata": {
  "kernelspec": {
   "display_name": "Python 3",
   "language": "python",
   "name": "python3"
  },
  "language_info": {
   "codemirror_mode": {
    "name": "ipython",
    "version": 3
   },
   "file_extension": ".py",
   "mimetype": "text/x-python",
   "name": "python",
   "nbconvert_exporter": "python",
   "pygments_lexer": "ipython3",
   "version": "3.12.0"
  }
 },
 "nbformat": 4,
 "nbformat_minor": 5
}
